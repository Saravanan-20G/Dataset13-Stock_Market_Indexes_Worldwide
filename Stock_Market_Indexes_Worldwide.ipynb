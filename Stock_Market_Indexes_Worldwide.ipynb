{
 "cells": [
  {
   "cell_type": "markdown",
   "metadata": {},
   "source": [
    "# Liabrary"
   ]
  },
  {
   "cell_type": "code",
   "execution_count": 2,
   "metadata": {},
   "outputs": [],
   "source": [
    "import pandas as pd\n",
    "import numpy as np"
   ]
  },
  {
   "cell_type": "markdown",
   "metadata": {},
   "source": [
    "# Dataframe"
   ]
  },
  {
   "cell_type": "code",
   "execution_count": 3,
   "metadata": {},
   "outputs": [],
   "source": [
    "df=pd.read_csv(\"C:\\\\Users\\\\Saravanan\\\\OneDrive\\\\Desktop\\\\Datasets_data\\Stock_Market_Indexes.csv\")"
   ]
  },
  {
   "cell_type": "code",
   "execution_count": 4,
   "metadata": {},
   "outputs": [
    {
     "data": {
      "text/html": [
       "<div>\n",
       "<style scoped>\n",
       "    .dataframe tbody tr th:only-of-type {\n",
       "        vertical-align: middle;\n",
       "    }\n",
       "\n",
       "    .dataframe tbody tr th {\n",
       "        vertical-align: top;\n",
       "    }\n",
       "\n",
       "    .dataframe thead th {\n",
       "        text-align: right;\n",
       "    }\n",
       "</style>\n",
       "<table border=\"1\" class=\"dataframe\">\n",
       "  <thead>\n",
       "    <tr style=\"text-align: right;\">\n",
       "      <th></th>\n",
       "      <th>Date</th>\n",
       "      <th>Name</th>\n",
       "      <th>Symbol</th>\n",
       "      <th>Open</th>\n",
       "      <th>High</th>\n",
       "      <th>Low</th>\n",
       "      <th>Close</th>\n",
       "      <th>Adj Close</th>\n",
       "      <th>Volume</th>\n",
       "    </tr>\n",
       "  </thead>\n",
       "  <tbody>\n",
       "    <tr>\n",
       "      <th>0</th>\n",
       "      <td>05-04-2024</td>\n",
       "      <td>CAC 40</td>\n",
       "      <td>FCHI</td>\n",
       "      <td>8050.25</td>\n",
       "      <td>8062.01</td>\n",
       "      <td>8019.29</td>\n",
       "      <td>8061.31</td>\n",
       "      <td>8061.31</td>\n",
       "      <td>65166400</td>\n",
       "    </tr>\n",
       "    <tr>\n",
       "      <th>1</th>\n",
       "      <td>05-04-2024</td>\n",
       "      <td>ESTX 50 PR.EUR</td>\n",
       "      <td>STOXX50E</td>\n",
       "      <td>5043.61</td>\n",
       "      <td>5043.61</td>\n",
       "      <td>4985.67</td>\n",
       "      <td>5014.75</td>\n",
       "      <td>5014.75</td>\n",
       "      <td>36778900</td>\n",
       "    </tr>\n",
       "    <tr>\n",
       "      <th>2</th>\n",
       "      <td>05-04-2024</td>\n",
       "      <td>IPC MEXICO</td>\n",
       "      <td>MXX</td>\n",
       "      <td>57805.19</td>\n",
       "      <td>58227.84</td>\n",
       "      <td>57678.61</td>\n",
       "      <td>58092.44</td>\n",
       "      <td>58092.44</td>\n",
       "      <td>212252300</td>\n",
       "    </tr>\n",
       "    <tr>\n",
       "      <th>3</th>\n",
       "      <td>05-04-2024</td>\n",
       "      <td>Euronext 100 Index</td>\n",
       "      <td>N100</td>\n",
       "      <td>1526.03</td>\n",
       "      <td>1526.03</td>\n",
       "      <td>1510.35</td>\n",
       "      <td>1520.1</td>\n",
       "      <td>1520.1</td>\n",
       "      <td>387210200</td>\n",
       "    </tr>\n",
       "    <tr>\n",
       "      <th>4</th>\n",
       "      <td>05-04-2024</td>\n",
       "      <td>KOSPI Composite Index</td>\n",
       "      <td>KS11</td>\n",
       "      <td>2713.96</td>\n",
       "      <td>2730.47</td>\n",
       "      <td>2705.31</td>\n",
       "      <td>2714.21</td>\n",
       "      <td>2714.21</td>\n",
       "      <td>621000</td>\n",
       "    </tr>\n",
       "    <tr>\n",
       "      <th>...</th>\n",
       "      <td>...</td>\n",
       "      <td>...</td>\n",
       "      <td>...</td>\n",
       "      <td>...</td>\n",
       "      <td>...</td>\n",
       "      <td>...</td>\n",
       "      <td>...</td>\n",
       "      <td>...</td>\n",
       "      <td>...</td>\n",
       "    </tr>\n",
       "    <tr>\n",
       "      <th>50127</th>\n",
       "      <td>02-01-2018</td>\n",
       "      <td>Russell 2000</td>\n",
       "      <td>RUT</td>\n",
       "      <td>1536.12</td>\n",
       "      <td>1550.3</td>\n",
       "      <td>1536.12</td>\n",
       "      <td>1550.01</td>\n",
       "      <td>1550.01</td>\n",
       "      <td>3397430000</td>\n",
       "    </tr>\n",
       "    <tr>\n",
       "      <th>50128</th>\n",
       "      <td>02-01-2018</td>\n",
       "      <td>ALL ORDINARIES</td>\n",
       "      <td>AORD</td>\n",
       "      <td>6167.3</td>\n",
       "      <td>6177.4</td>\n",
       "      <td>6141.4</td>\n",
       "      <td>6166</td>\n",
       "      <td>6166</td>\n",
       "      <td>655733700</td>\n",
       "    </tr>\n",
       "    <tr>\n",
       "      <th>50129</th>\n",
       "      <td>02-01-2018</td>\n",
       "      <td>NYSE COMPOSITE</td>\n",
       "      <td>NYA</td>\n",
       "      <td>12860.93</td>\n",
       "      <td>12902.72</td>\n",
       "      <td>12842.27</td>\n",
       "      <td>12902.72</td>\n",
       "      <td>12902.72</td>\n",
       "      <td>3397430000</td>\n",
       "    </tr>\n",
       "    <tr>\n",
       "      <th>50130</th>\n",
       "      <td>02-01-2018</td>\n",
       "      <td>Cboe UK 100</td>\n",
       "      <td>BUK100P</td>\n",
       "      <td>771.24</td>\n",
       "      <td>771.24</td>\n",
       "      <td>763.96</td>\n",
       "      <td>765.5</td>\n",
       "      <td>765.5</td>\n",
       "      <td>-</td>\n",
       "    </tr>\n",
       "    <tr>\n",
       "      <th>50131</th>\n",
       "      <td>01-01-2018</td>\n",
       "      <td>S&amp;P BSE SENSEX</td>\n",
       "      <td>BSESN</td>\n",
       "      <td>34059.99</td>\n",
       "      <td>34101.13</td>\n",
       "      <td>33766.15</td>\n",
       "      <td>33812.75</td>\n",
       "      <td>33812.75</td>\n",
       "      <td>7500</td>\n",
       "    </tr>\n",
       "  </tbody>\n",
       "</table>\n",
       "<p>50132 rows × 9 columns</p>\n",
       "</div>"
      ],
      "text/plain": [
       "             Date                   Name    Symbol      Open      High  \\\n",
       "0      05-04-2024                 CAC 40      FCHI   8050.25   8062.01   \n",
       "1      05-04-2024         ESTX 50 PR.EUR  STOXX50E   5043.61   5043.61   \n",
       "2      05-04-2024             IPC MEXICO       MXX  57805.19  58227.84   \n",
       "3      05-04-2024     Euronext 100 Index      N100   1526.03   1526.03   \n",
       "4      05-04-2024  KOSPI Composite Index      KS11   2713.96   2730.47   \n",
       "...           ...                    ...       ...       ...       ...   \n",
       "50127  02-01-2018           Russell 2000       RUT   1536.12    1550.3   \n",
       "50128  02-01-2018         ALL ORDINARIES      AORD    6167.3    6177.4   \n",
       "50129  02-01-2018         NYSE COMPOSITE       NYA  12860.93  12902.72   \n",
       "50130  02-01-2018            Cboe UK 100   BUK100P    771.24    771.24   \n",
       "50131  01-01-2018         S&P BSE SENSEX     BSESN  34059.99  34101.13   \n",
       "\n",
       "            Low     Close Adj Close      Volume  \n",
       "0       8019.29   8061.31   8061.31    65166400  \n",
       "1       4985.67   5014.75   5014.75    36778900  \n",
       "2      57678.61  58092.44  58092.44   212252300  \n",
       "3       1510.35    1520.1    1520.1   387210200  \n",
       "4       2705.31   2714.21   2714.21      621000  \n",
       "...         ...       ...       ...         ...  \n",
       "50127   1536.12   1550.01   1550.01  3397430000  \n",
       "50128    6141.4      6166      6166   655733700  \n",
       "50129  12842.27  12902.72  12902.72  3397430000  \n",
       "50130    763.96     765.5     765.5           -  \n",
       "50131  33766.15  33812.75  33812.75        7500  \n",
       "\n",
       "[50132 rows x 9 columns]"
      ]
     },
     "execution_count": 4,
     "metadata": {},
     "output_type": "execute_result"
    }
   ],
   "source": [
    "df"
   ]
  },
  {
   "cell_type": "markdown",
   "metadata": {},
   "source": [
    "# Observation\n",
    "\n",
    "Dependent Column - Adj Close,Close,Volume\n",
    "Independent Column - Name,Symbol,Open,High,Low"
   ]
  },
  {
   "cell_type": "code",
   "execution_count": 5,
   "metadata": {},
   "outputs": [],
   "source": [
    "Continuous_Column=['Open', 'High', 'Low', 'Close', 'Adj Close', 'Volume']\n",
    "Categorical_Column=[ 'Name', 'Symbol']"
   ]
  },
  {
   "cell_type": "markdown",
   "metadata": {},
   "source": [
    "# Data Cleaning"
   ]
  },
  {
   "cell_type": "code",
   "execution_count": 6,
   "metadata": {},
   "outputs": [
    {
     "name": "stdout",
     "output_type": "stream",
     "text": [
      "<class 'pandas.core.frame.DataFrame'>\n",
      "RangeIndex: 50132 entries, 0 to 50131\n",
      "Data columns (total 9 columns):\n",
      " #   Column     Non-Null Count  Dtype \n",
      "---  ------     --------------  ----- \n",
      " 0   Date       50132 non-null  object\n",
      " 1   Name       50132 non-null  object\n",
      " 2   Symbol     50132 non-null  object\n",
      " 3   Open       50132 non-null  object\n",
      " 4   High       50132 non-null  object\n",
      " 5   Low        50132 non-null  object\n",
      " 6   Close      50132 non-null  object\n",
      " 7   Adj Close  50132 non-null  object\n",
      " 8   Volume     50132 non-null  object\n",
      "dtypes: object(9)\n",
      "memory usage: 3.4+ MB\n"
     ]
    }
   ],
   "source": [
    "df.info()"
   ]
  },
  {
   "cell_type": "code",
   "execution_count": 7,
   "metadata": {},
   "outputs": [
    {
     "data": {
      "text/html": [
       "<div>\n",
       "<style scoped>\n",
       "    .dataframe tbody tr th:only-of-type {\n",
       "        vertical-align: middle;\n",
       "    }\n",
       "\n",
       "    .dataframe tbody tr th {\n",
       "        vertical-align: top;\n",
       "    }\n",
       "\n",
       "    .dataframe thead th {\n",
       "        text-align: right;\n",
       "    }\n",
       "</style>\n",
       "<table border=\"1\" class=\"dataframe\">\n",
       "  <thead>\n",
       "    <tr style=\"text-align: right;\">\n",
       "      <th></th>\n",
       "      <th>Date</th>\n",
       "      <th>Name</th>\n",
       "      <th>Symbol</th>\n",
       "      <th>Open</th>\n",
       "      <th>High</th>\n",
       "      <th>Low</th>\n",
       "      <th>Close</th>\n",
       "      <th>Adj Close</th>\n",
       "      <th>Volume</th>\n",
       "    </tr>\n",
       "  </thead>\n",
       "  <tbody>\n",
       "    <tr>\n",
       "      <th>count</th>\n",
       "      <td>50132</td>\n",
       "      <td>50132</td>\n",
       "      <td>50132</td>\n",
       "      <td>50132</td>\n",
       "      <td>50132</td>\n",
       "      <td>50132</td>\n",
       "      <td>50132</td>\n",
       "      <td>50132</td>\n",
       "      <td>50132</td>\n",
       "    </tr>\n",
       "    <tr>\n",
       "      <th>unique</th>\n",
       "      <td>1945</td>\n",
       "      <td>32</td>\n",
       "      <td>32</td>\n",
       "      <td>47267</td>\n",
       "      <td>47310</td>\n",
       "      <td>47141</td>\n",
       "      <td>47283</td>\n",
       "      <td>47285</td>\n",
       "      <td>31220</td>\n",
       "    </tr>\n",
       "    <tr>\n",
       "      <th>top</th>\n",
       "      <td>07-11-2018</td>\n",
       "      <td>CBOE Volatility Index</td>\n",
       "      <td>VIX</td>\n",
       "      <td>-</td>\n",
       "      <td>-</td>\n",
       "      <td>-</td>\n",
       "      <td>-</td>\n",
       "      <td>-</td>\n",
       "      <td>-</td>\n",
       "    </tr>\n",
       "    <tr>\n",
       "      <th>freq</th>\n",
       "      <td>32</td>\n",
       "      <td>1634</td>\n",
       "      <td>1634</td>\n",
       "      <td>1410</td>\n",
       "      <td>1410</td>\n",
       "      <td>1410</td>\n",
       "      <td>1410</td>\n",
       "      <td>1410</td>\n",
       "      <td>11661</td>\n",
       "    </tr>\n",
       "  </tbody>\n",
       "</table>\n",
       "</div>"
      ],
      "text/plain": [
       "              Date                   Name Symbol   Open   High    Low  Close  \\\n",
       "count        50132                  50132  50132  50132  50132  50132  50132   \n",
       "unique        1945                     32     32  47267  47310  47141  47283   \n",
       "top     07-11-2018  CBOE Volatility Index    VIX      -      -      -      -   \n",
       "freq            32                   1634   1634   1410   1410   1410   1410   \n",
       "\n",
       "       Adj Close Volume  \n",
       "count      50132  50132  \n",
       "unique     47285  31220  \n",
       "top            -      -  \n",
       "freq        1410  11661  "
      ]
     },
     "execution_count": 7,
     "metadata": {},
     "output_type": "execute_result"
    }
   ],
   "source": [
    "df.describe()"
   ]
  },
  {
   "cell_type": "code",
   "execution_count": 8,
   "metadata": {},
   "outputs": [
    {
     "data": {
      "text/plain": [
       "Date         0\n",
       "Name         0\n",
       "Symbol       0\n",
       "Open         0\n",
       "High         0\n",
       "Low          0\n",
       "Close        0\n",
       "Adj Close    0\n",
       "Volume       0\n",
       "dtype: int64"
      ]
     },
     "execution_count": 8,
     "metadata": {},
     "output_type": "execute_result"
    }
   ],
   "source": [
    "df.isnull().sum()"
   ]
  },
  {
   "cell_type": "code",
   "execution_count": 9,
   "metadata": {},
   "outputs": [
    {
     "data": {
      "text/plain": [
       "0"
      ]
     },
     "execution_count": 9,
     "metadata": {},
     "output_type": "execute_result"
    }
   ],
   "source": [
    "df.duplicated().sum()"
   ]
  },
  {
   "cell_type": "markdown",
   "metadata": {},
   "source": [
    "# Statistical analysis\n",
    "Continuous - Central Limit Theorem, 1-Tailed Test (one-sample t-test)\n",
    "\n",
    "Continuous vs. Continuous - Correlation, 2-Tailed Test (two-sample t-test)\n",
    "\n",
    "Continuous vs. Categorical - ANOVA (Analysis of Variance)\n",
    "\n",
    "Categorical vs. Categorical - Chi-Square Test"
   ]
  },
  {
   "cell_type": "code",
   "execution_count": 12,
   "metadata": {},
   "outputs": [
    {
     "data": {
      "text/html": [
       "<div>\n",
       "<style scoped>\n",
       "    .dataframe tbody tr th:only-of-type {\n",
       "        vertical-align: middle;\n",
       "    }\n",
       "\n",
       "    .dataframe tbody tr th {\n",
       "        vertical-align: top;\n",
       "    }\n",
       "\n",
       "    .dataframe thead th {\n",
       "        text-align: right;\n",
       "    }\n",
       "</style>\n",
       "<table border=\"1\" class=\"dataframe\">\n",
       "  <thead>\n",
       "    <tr style=\"text-align: right;\">\n",
       "      <th></th>\n",
       "    </tr>\n",
       "  </thead>\n",
       "  <tbody>\n",
       "  </tbody>\n",
       "</table>\n",
       "</div>"
      ],
      "text/plain": [
       "Empty DataFrame\n",
       "Columns: []\n",
       "Index: []"
      ]
     },
     "execution_count": 12,
     "metadata": {},
     "output_type": "execute_result"
    }
   ],
   "source": [
    "number_df=df.select_dtypes(include='number')\n",
    "corr_m=number_df.corr()\n",
    "corr_m"
   ]
  },
  {
   "cell_type": "code",
   "execution_count": 17,
   "metadata": {},
   "outputs": [],
   "source": [
    "def hypothesis_testing(df,Continuous_Column=[],Categorical_Column=[],sample_size=20,sample_rate=0.05):\n",
    "    df=df\n",
    "    # Central limit theoram\n",
    "    onecontinuouscolumn_Result = {}\n",
    "    for column in Continuous_Column:\n",
    "        population = df[column].dropna().to_numpy()  # Drop NaN values and convert column to NumPy array\n",
    "        population_mean = np.mean(population)\n",
    "       \n",
    "        sample_mean = []\n",
    "\n",
    "        # Generate samples and calculate sample mean\n",
    "        for i in range(40):\n",
    "            sample = np.random.choice(population, size=sample_size, replace=True)\n",
    "            sample_mean.append(np.mean(sample))\n",
    "\n",
    "        onecontinuouscolumn_Result[column] = {\n",
    "            \"Population Mean\": population_mean,\n",
    "            \"Sample Mean\": np.mean(sample_mean)\n",
    "        }\n",
    "    return onecontinuouscolumn_Result"
   ]
  },
  {
   "cell_type": "code",
   "execution_count": 19,
   "metadata": {},
   "outputs": [
    {
     "ename": "TypeError",
     "evalue": "ufunc 'divide' not supported for the input types, and the inputs could not be safely coerced to any supported types according to the casting rule ''safe''",
     "output_type": "error",
     "traceback": [
      "\u001b[1;31m---------------------------------------------------------------------------\u001b[0m",
      "\u001b[1;31mTypeError\u001b[0m                                 Traceback (most recent call last)",
      "Cell \u001b[1;32mIn[19], line 1\u001b[0m\n\u001b[1;32m----> 1\u001b[0m ContinuousColumn_Result\u001b[38;5;241m=\u001b[39m\u001b[43mhypothesis_testing\u001b[49m\u001b[43m(\u001b[49m\u001b[43mdf\u001b[49m\u001b[43m,\u001b[49m\u001b[43mContinuous_Column\u001b[49m\u001b[43m)\u001b[49m\n",
      "Cell \u001b[1;32mIn[17], line 7\u001b[0m, in \u001b[0;36mhypothesis_testing\u001b[1;34m(df, Continuous_Column, Categorical_Column, sample_size, sample_rate)\u001b[0m\n\u001b[0;32m      5\u001b[0m \u001b[38;5;28;01mfor\u001b[39;00m column \u001b[38;5;129;01min\u001b[39;00m Continuous_Column:\n\u001b[0;32m      6\u001b[0m     population \u001b[38;5;241m=\u001b[39m df[column]\u001b[38;5;241m.\u001b[39mdropna()\u001b[38;5;241m.\u001b[39mto_numpy()  \u001b[38;5;66;03m# Drop NaN values and convert column to NumPy array\u001b[39;00m\n\u001b[1;32m----> 7\u001b[0m     population_mean \u001b[38;5;241m=\u001b[39m \u001b[43mnp\u001b[49m\u001b[38;5;241;43m.\u001b[39;49m\u001b[43mmean\u001b[49m\u001b[43m(\u001b[49m\u001b[43mpopulation\u001b[49m\u001b[43m)\u001b[49m\n\u001b[0;32m      9\u001b[0m     sample_mean \u001b[38;5;241m=\u001b[39m []\n\u001b[0;32m     11\u001b[0m     \u001b[38;5;66;03m# Generate samples and calculate sample mean\u001b[39;00m\n",
      "File \u001b[1;32mc:\\Users\\Saravanan\\OneDrive\\Desktop\\Dataset\\.venv\\Lib\\site-packages\\numpy\\core\\fromnumeric.py:3504\u001b[0m, in \u001b[0;36mmean\u001b[1;34m(a, axis, dtype, out, keepdims, where)\u001b[0m\n\u001b[0;32m   3501\u001b[0m     \u001b[38;5;28;01melse\u001b[39;00m:\n\u001b[0;32m   3502\u001b[0m         \u001b[38;5;28;01mreturn\u001b[39;00m mean(axis\u001b[38;5;241m=\u001b[39maxis, dtype\u001b[38;5;241m=\u001b[39mdtype, out\u001b[38;5;241m=\u001b[39mout, \u001b[38;5;241m*\u001b[39m\u001b[38;5;241m*\u001b[39mkwargs)\n\u001b[1;32m-> 3504\u001b[0m \u001b[38;5;28;01mreturn\u001b[39;00m \u001b[43m_methods\u001b[49m\u001b[38;5;241;43m.\u001b[39;49m\u001b[43m_mean\u001b[49m\u001b[43m(\u001b[49m\u001b[43ma\u001b[49m\u001b[43m,\u001b[49m\u001b[43m \u001b[49m\u001b[43maxis\u001b[49m\u001b[38;5;241;43m=\u001b[39;49m\u001b[43maxis\u001b[49m\u001b[43m,\u001b[49m\u001b[43m \u001b[49m\u001b[43mdtype\u001b[49m\u001b[38;5;241;43m=\u001b[39;49m\u001b[43mdtype\u001b[49m\u001b[43m,\u001b[49m\n\u001b[0;32m   3505\u001b[0m \u001b[43m                      \u001b[49m\u001b[43mout\u001b[49m\u001b[38;5;241;43m=\u001b[39;49m\u001b[43mout\u001b[49m\u001b[43m,\u001b[49m\u001b[43m \u001b[49m\u001b[38;5;241;43m*\u001b[39;49m\u001b[38;5;241;43m*\u001b[39;49m\u001b[43mkwargs\u001b[49m\u001b[43m)\u001b[49m\n",
      "File \u001b[1;32mc:\\Users\\Saravanan\\OneDrive\\Desktop\\Dataset\\.venv\\Lib\\site-packages\\numpy\\core\\_methods.py:131\u001b[0m, in \u001b[0;36m_mean\u001b[1;34m(a, axis, dtype, out, keepdims, where)\u001b[0m\n\u001b[0;32m    129\u001b[0m         ret \u001b[38;5;241m=\u001b[39m ret\u001b[38;5;241m.\u001b[39mdtype\u001b[38;5;241m.\u001b[39mtype(ret \u001b[38;5;241m/\u001b[39m rcount)\n\u001b[0;32m    130\u001b[0m \u001b[38;5;28;01melse\u001b[39;00m:\n\u001b[1;32m--> 131\u001b[0m     ret \u001b[38;5;241m=\u001b[39m \u001b[43mret\u001b[49m\u001b[43m \u001b[49m\u001b[38;5;241;43m/\u001b[39;49m\u001b[43m \u001b[49m\u001b[43mrcount\u001b[49m\n\u001b[0;32m    133\u001b[0m \u001b[38;5;28;01mreturn\u001b[39;00m ret\n",
      "\u001b[1;31mTypeError\u001b[0m: ufunc 'divide' not supported for the input types, and the inputs could not be safely coerced to any supported types according to the casting rule ''safe''"
     ]
    }
   ],
   "source": [
    "ContinuousColumn_Result=hypothesis_testing(df,Continuous_Column)"
   ]
  },
  {
   "cell_type": "code",
   "execution_count": null,
   "metadata": {},
   "outputs": [],
   "source": [
    "ContinuousColumn_Result_df=pd.DataFrame(ContinuousColumn_Result)\n",
    "ContinuousColumn_Result_df"
   ]
  }
 ],
 "metadata": {
  "kernelspec": {
   "display_name": ".venv",
   "language": "python",
   "name": "python3"
  },
  "language_info": {
   "codemirror_mode": {
    "name": "ipython",
    "version": 3
   },
   "file_extension": ".py",
   "mimetype": "text/x-python",
   "name": "python",
   "nbconvert_exporter": "python",
   "pygments_lexer": "ipython3",
   "version": "3.11.9"
  }
 },
 "nbformat": 4,
 "nbformat_minor": 2
}
